{
 "cells": [
  {
   "cell_type": "markdown",
   "metadata": {},
   "source": [
    "# Get Model Predictions and Ensemble the results\n",
    "In this notebook, we create predictions using the faster rcnn and cascade rcnn model weights. After getting the predictions, we ensemble the predictions of the two models using weighted boxes fusion.\n",
    "\n",
    "**We need a GPU for this notebook to get model predictions**"
   ]
  },
  {
   "cell_type": "code",
   "execution_count": 2,
   "metadata": {},
   "outputs": [
    {
     "name": "stdout",
     "output_type": "stream",
     "text": [
      "Collecting ensemble_boxes\n",
      "  Downloading ensemble_boxes-1.0.9-py3-none-any.whl (23 kB)\n",
      "Requirement already satisfied: pandas in /opt/conda/lib/python3.6/site-packages (from ensemble_boxes) (1.1.5)\n",
      "Requirement already satisfied: numba in /opt/conda/lib/python3.6/site-packages (from ensemble_boxes) (0.53.1)\n",
      "Requirement already satisfied: numpy in /opt/conda/lib/python3.6/site-packages (from ensemble_boxes) (1.19.1)\n",
      "Requirement already satisfied: llvmlite<0.37,>=0.36.0rc1 in /opt/conda/lib/python3.6/site-packages (from numba->ensemble_boxes) (0.36.0)\n",
      "Requirement already satisfied: setuptools in /opt/conda/lib/python3.6/site-packages (from numba->ensemble_boxes) (59.6.0)\n",
      "Requirement already satisfied: python-dateutil>=2.7.3 in /opt/conda/lib/python3.6/site-packages (from pandas->ensemble_boxes) (2.8.2)\n",
      "Requirement already satisfied: pytz>=2017.2 in /opt/conda/lib/python3.6/site-packages (from pandas->ensemble_boxes) (2021.3)\n",
      "Requirement already satisfied: six>=1.5 in /opt/conda/lib/python3.6/site-packages (from python-dateutil>=2.7.3->pandas->ensemble_boxes) (1.16.0)\n",
      "Installing collected packages: ensemble-boxes\n",
      "Successfully installed ensemble-boxes-1.0.9\n",
      "\u001b[33mWARNING: Running pip as the 'root' user can result in broken permissions and conflicting behaviour with the system package manager. It is recommended to use a virtual environment instead: https://pip.pypa.io/warnings/venv\u001b[0m\n"
     ]
    }
   ],
   "source": [
    "# ensemble_boxes library is required for ensembling the results of the two models\n",
    "!pip install ensemble_boxes"
   ]
  },
  {
   "cell_type": "code",
   "execution_count": 3,
   "metadata": {},
   "outputs": [],
   "source": [
    "import cv2\n",
    "import numpy as np\n",
    "import pandas as pd\n",
    "from tqdm import tqdm\n",
    "import sys"
   ]
  },
  {
   "cell_type": "code",
   "execution_count": 4,
   "metadata": {},
   "outputs": [],
   "source": [
    "sys.path.append('../src')    # Add the source directory to the PYTHONPATH. This allows to import local functions and modules."
   ]
  },
  {
   "cell_type": "code",
   "execution_count": 5,
   "metadata": {},
   "outputs": [],
   "source": [
    "from detection_util import create_predictions\n",
    "from gdsc_util import PROJECT_DIR\n",
    "from training_frcnn_5k_r101 import load_config as load_config_frcnn\n",
    "from training_crcnn_5k_r101 import load_config as load_config_crcnn\n",
    "from merge_ensemble_results import generate_test_results"
   ]
  },
  {
   "cell_type": "code",
   "execution_count": 6,
   "metadata": {},
   "outputs": [],
   "source": [
    "data_folder = str(PROJECT_DIR / 'data')"
   ]
  },
  {
   "cell_type": "code",
   "execution_count": 7,
   "metadata": {},
   "outputs": [],
   "source": [
    "# Load configs for faster RCNN and cascade RCNN models\n",
    "cfg_frcnn, base_file_frcnn = load_config_frcnn(data_folder)\n",
    "cfg_crcnn, base_file_crcnn = load_config_crcnn(data_folder)"
   ]
  },
  {
   "cell_type": "code",
   "execution_count": 8,
   "metadata": {},
   "outputs": [],
   "source": [
    "# Get the test filenames\n",
    "test_files_path = f'{data_folder}/test_files.csv'\n",
    "file_names = pd.read_csv(test_files_path, sep=';', header=None)[0].values"
   ]
  },
  {
   "cell_type": "code",
   "execution_count": 9,
   "metadata": {},
   "outputs": [],
   "source": [
    "# Specify path of the two model weights relative to the data folder\n",
    "with open(f'{PROJECT_DIR}/experiment_frcnn_5k_r101_epoch_24.txt', 'r') as f:\n",
    "    experiment_name_frcnn = f.read()\n",
    "\n",
    "with open(f'{PROJECT_DIR}/experiment_crcnn_5k_r101_epoch_24.txt', 'r') as f:\n",
    "    experiment_name_crcnn = f.read()\n",
    "    \n",
    "frcnn_model_weight = f'{experiment_name_frcnn}/frcnn_epoch_24.pth'\n",
    "crcnn_model_weight = f'{experiment_name_crcnn}/crcnn_epoch_24.pth'"
   ]
  },
  {
   "cell_type": "code",
   "execution_count": 10,
   "metadata": {},
   "outputs": [
    {
     "name": "stdout",
     "output_type": "stream",
     "text": [
      "load checkpoint from local path: /home/sagemaker-user/gdsc5-tutorials-public/data/training-frcnn-5k-r101-2022-07-20-08-53-07-587/frcnn_epoch_24.pth\n"
     ]
    },
    {
     "name": "stderr",
     "output_type": "stream",
     "text": [
      "  0%|          | 0/73 [00:00<?, ?it/s]/mmdetection/mmdet/datasets/utils.py:70: UserWarning: \"ImageToTensor\" pipeline is replaced by \"DefaultFormatBundle\" for batch inference. It is recommended to manually replace it in the test data pipeline in your config file.\n",
      "  'data pipeline in your config file.', UserWarning)\n"
     ]
    },
    {
     "name": "stdout",
     "output_type": "stream",
     "text": [
      "[2022-08-17 06:21:45.810 gdsc5-smstudio-cust-ml-g4dn-xlarge-21531be2e6472c39ba6c0447db92:45 INFO utils.py:27] RULE_JOB_STOP_SIGNAL_FILENAME: None\n",
      "[2022-08-17 06:21:45.845 gdsc5-smstudio-cust-ml-g4dn-xlarge-21531be2e6472c39ba6c0447db92:45 INFO profiler_config_parser.py:102] Unable to find config at /opt/ml/input/config/profilerconfig.json. Profiler is disabled.\n"
     ]
    },
    {
     "name": "stderr",
     "output_type": "stream",
     "text": [
      "  1%|▏         | 1/73 [00:09<10:54,  9.10s/it]INFO:detection_util:Processing file: 100_C.jpg\n",
      "  3%|▎         | 2/73 [00:11<06:23,  5.40s/it]INFO:detection_util:Processing file: 100_B.jpg\n",
      "  4%|▍         | 3/73 [00:13<04:30,  3.86s/it]INFO:detection_util:Processing file: 100_AA.jpg\n",
      "  5%|▌         | 4/73 [00:16<03:42,  3.23s/it]INFO:detection_util:Processing file: 100_A.jpg\n",
      "  7%|▋         | 5/73 [00:18<03:24,  3.01s/it]INFO:detection_util:Processing file: 101_DD.jpg\n",
      "  8%|▊         | 6/73 [00:21<03:05,  2.78s/it]INFO:detection_util:Processing file: 101_C.jpg\n",
      " 10%|▉         | 7/73 [00:23<02:56,  2.67s/it]INFO:detection_util:Processing file: 101_B.jpg\n",
      " 11%|█         | 8/73 [00:25<02:47,  2.57s/it]INFO:detection_util:Processing file: 101_AA.jpg\n",
      " 12%|█▏        | 9/73 [00:28<02:39,  2.49s/it]INFO:detection_util:Processing file: 101_A.jpg\n",
      " 14%|█▎        | 10/73 [00:30<02:31,  2.41s/it]INFO:detection_util:Processing file: 86_D.jpg\n",
      " 15%|█▌        | 11/73 [00:33<02:42,  2.62s/it]INFO:detection_util:Processing file: 86_C.jpg\n",
      " 16%|█▋        | 12/73 [00:36<02:54,  2.86s/it]INFO:detection_util:Processing file: 86_B.jpg\n",
      " 18%|█▊        | 13/73 [00:39<02:51,  2.86s/it]INFO:detection_util:Processing file: 86_AA.jpg\n",
      " 19%|█▉        | 14/73 [00:42<02:46,  2.82s/it]INFO:detection_util:Processing file: 86_A.jpg\n",
      " 21%|██        | 15/73 [00:45<02:48,  2.90s/it]INFO:detection_util:Processing file: 88_D.jpg\n",
      " 22%|██▏       | 16/73 [00:50<03:20,  3.52s/it]INFO:detection_util:Processing file: 88_C.jpg\n",
      " 23%|██▎       | 17/73 [00:55<03:37,  3.89s/it]INFO:detection_util:Processing file: 88_B.jpg\n",
      " 25%|██▍       | 18/73 [00:59<03:37,  3.95s/it]INFO:detection_util:Processing file: 88_A.jpg\n",
      " 26%|██▌       | 19/73 [01:03<03:37,  4.03s/it]INFO:detection_util:Processing file: 89_D.jpg\n",
      " 27%|██▋       | 20/73 [01:05<02:59,  3.39s/it]INFO:detection_util:Processing file: 89_C.jpg\n",
      " 29%|██▉       | 21/73 [01:08<02:45,  3.18s/it]INFO:detection_util:Processing file: 89_B.jpg\n",
      " 30%|███       | 22/73 [01:10<02:25,  2.85s/it]INFO:detection_util:Processing file: 89_AA.jpg\n",
      " 32%|███▏      | 23/73 [01:13<02:21,  2.82s/it]INFO:detection_util:Processing file: 89_A.jpg\n",
      " 33%|███▎      | 24/73 [01:15<02:09,  2.65s/it]INFO:detection_util:Processing file: 90_D.jpg\n",
      " 34%|███▍      | 25/73 [01:18<02:14,  2.81s/it]INFO:detection_util:Processing file: 90_C.jpg\n",
      " 36%|███▌      | 26/73 [01:22<02:23,  3.06s/it]INFO:detection_util:Processing file: 90_B.jpg\n",
      " 37%|███▋      | 27/73 [01:25<02:29,  3.25s/it]INFO:detection_util:Processing file: 90_AA.jpg\n",
      " 38%|███▊      | 28/73 [01:30<02:40,  3.57s/it]INFO:detection_util:Processing file: 90_A.jpg\n",
      " 40%|███▉      | 29/73 [01:33<02:39,  3.63s/it]INFO:detection_util:Processing file: 91_D.jpg\n",
      " 41%|████      | 30/73 [01:37<02:35,  3.62s/it]INFO:detection_util:Processing file: 91_C.jpg\n",
      " 42%|████▏     | 31/73 [01:41<02:33,  3.65s/it]INFO:detection_util:Processing file: 91_B.jpg\n",
      " 44%|████▍     | 32/73 [01:45<02:34,  3.78s/it]INFO:detection_util:Processing file: 91_AA.jpg\n",
      " 45%|████▌     | 33/73 [01:49<02:30,  3.77s/it]INFO:detection_util:Processing file: 91_A.jpg\n",
      " 47%|████▋     | 34/73 [01:53<02:37,  4.04s/it]INFO:detection_util:Processing file: 92_D.jpg\n",
      " 48%|████▊     | 35/73 [01:58<02:37,  4.13s/it]INFO:detection_util:Processing file: 92_C.jpg\n",
      " 49%|████▉     | 36/73 [02:02<02:39,  4.31s/it]INFO:detection_util:Processing file: 92_B.jpg\n",
      " 51%|█████     | 37/73 [02:08<02:46,  4.62s/it]INFO:detection_util:Processing file: 92_AA.jpg\n",
      " 52%|█████▏    | 38/73 [02:12<02:38,  4.53s/it]INFO:detection_util:Processing file: 92_A.jpg\n",
      " 53%|█████▎    | 39/73 [02:16<02:29,  4.39s/it]INFO:detection_util:Processing file: 93_D.jpg\n",
      " 55%|█████▍    | 40/73 [02:22<02:36,  4.75s/it]INFO:detection_util:Processing file: 93_C.jpg\n",
      " 56%|█████▌    | 41/73 [02:27<02:34,  4.83s/it]INFO:detection_util:Processing file: 93_B.jpg\n",
      " 58%|█████▊    | 42/73 [02:31<02:29,  4.82s/it]INFO:detection_util:Processing file: 93_AA.jpg\n",
      " 59%|█████▉    | 43/73 [02:35<02:15,  4.52s/it]INFO:detection_util:Processing file: 93_A.jpg\n",
      " 60%|██████    | 44/73 [02:40<02:14,  4.65s/it]INFO:detection_util:Processing file: 94_D.jpg\n",
      " 62%|██████▏   | 45/73 [02:45<02:11,  4.69s/it]INFO:detection_util:Processing file: 94_C.jpg\n",
      " 63%|██████▎   | 46/73 [02:50<02:10,  4.82s/it]INFO:detection_util:Processing file: 94_B.jpg\n",
      " 64%|██████▍   | 47/73 [02:55<02:08,  4.95s/it]INFO:detection_util:Processing file: 94_AA.jpg\n",
      " 66%|██████▌   | 48/73 [02:59<01:57,  4.69s/it]INFO:detection_util:Processing file: 94_A.jpg\n",
      " 67%|██████▋   | 49/73 [03:05<01:56,  4.84s/it]INFO:detection_util:Processing file: 95_D.jpg\n",
      " 68%|██████▊   | 50/73 [03:08<01:40,  4.37s/it]INFO:detection_util:Processing file: 95_C.jpg\n",
      " 70%|██████▉   | 51/73 [03:12<01:33,  4.24s/it]INFO:detection_util:Processing file: 95_B.jpg\n",
      " 71%|███████   | 52/73 [03:15<01:23,  3.97s/it]INFO:detection_util:Processing file: 95_AA.jpg\n",
      " 73%|███████▎  | 53/73 [03:19<01:15,  3.76s/it]INFO:detection_util:Processing file: 95_A.jpg\n",
      " 74%|███████▍  | 54/73 [03:22<01:11,  3.76s/it]INFO:detection_util:Processing file: 96_D.jpg\n",
      " 75%|███████▌  | 55/73 [03:26<01:08,  3.81s/it]INFO:detection_util:Processing file: 96_C.jpg\n",
      " 77%|███████▋  | 56/73 [03:29<00:59,  3.49s/it]INFO:detection_util:Processing file: 96_B.jpg\n",
      " 78%|███████▊  | 57/73 [03:33<00:59,  3.71s/it]INFO:detection_util:Processing file: 96_AA.jpg\n",
      " 79%|███████▉  | 58/73 [03:37<00:54,  3.65s/it]INFO:detection_util:Processing file: 96_A.jpg\n",
      " 81%|████████  | 59/73 [03:41<00:55,  3.97s/it]INFO:detection_util:Processing file: 97_D.jpg\n",
      " 82%|████████▏ | 60/73 [03:46<00:55,  4.24s/it]INFO:detection_util:Processing file: 97_C.jpg\n",
      " 84%|████████▎ | 61/73 [03:50<00:47,  3.94s/it]INFO:detection_util:Processing file: 97_B.jpg\n",
      " 85%|████████▍ | 62/73 [03:53<00:42,  3.82s/it]INFO:detection_util:Processing file: 97_A.jpg\n",
      " 86%|████████▋ | 63/73 [03:57<00:37,  3.73s/it]INFO:detection_util:Processing file: 98_D.jpg\n",
      " 88%|████████▊ | 64/73 [04:00<00:32,  3.62s/it]INFO:detection_util:Processing file: 98_C.jpg\n",
      " 89%|████████▉ | 65/73 [04:03<00:27,  3.41s/it]INFO:detection_util:Processing file: 98_B.jpg\n",
      " 90%|█████████ | 66/73 [04:07<00:25,  3.61s/it]INFO:detection_util:Processing file: 98_AA.jpg\n",
      " 92%|█████████▏| 67/73 [04:10<00:20,  3.49s/it]INFO:detection_util:Processing file: 98_A.jpg\n",
      " 93%|█████████▎| 68/73 [04:13<00:17,  3.42s/it]INFO:detection_util:Processing file: 99_D.jpg\n",
      " 95%|█████████▍| 69/73 [04:17<00:14,  3.53s/it]INFO:detection_util:Processing file: 99_C.jpg\n",
      " 96%|█████████▌| 70/73 [04:20<00:09,  3.25s/it]INFO:detection_util:Processing file: 99_B.jpg\n",
      " 97%|█████████▋| 71/73 [04:23<00:06,  3.18s/it]INFO:detection_util:Processing file: 99_AA.jpg\n",
      " 99%|█████████▊| 72/73 [04:25<00:02,  2.96s/it]INFO:detection_util:Processing file: 99_A.jpg\n",
      "100%|██████████| 73/73 [04:29<00:00,  3.70s/it]\n"
     ]
    }
   ],
   "source": [
    "# Create predictions for faster RCNN model\n",
    "checkpoint_frcnn = f'{data_folder}/{frcnn_model_weight}'\n",
    "prediction_df_frcnn = create_predictions(file_names, cfg_frcnn, checkpoint_frcnn, device='cuda')"
   ]
  },
  {
   "cell_type": "code",
   "execution_count": 11,
   "metadata": {},
   "outputs": [],
   "source": [
    "# Save Faster RCNN model predictions\n",
    "frcnn_result_path = f'{data_folder}/results_frcnn_test.csv'\n",
    "prediction_df_frcnn.to_csv(frcnn_result_path, sep=';')"
   ]
  },
  {
   "cell_type": "code",
   "execution_count": 12,
   "metadata": {},
   "outputs": [
    {
     "name": "stdout",
     "output_type": "stream",
     "text": [
      "load checkpoint from local path: /home/sagemaker-user/gdsc5-tutorials-public/data/training-crcnn-5k-r101-2022-07-21-09-59-02-369/crcnn_epoch_24.pth\n"
     ]
    },
    {
     "name": "stderr",
     "output_type": "stream",
     "text": [
      "INFO:detection_util:Creating predictions for 73 files\n",
      "  0%|          | 0/73 [00:00<?, ?it/s]INFO:detection_util:Processing file: 100_D.jpg\n",
      "/mmdetection/mmdet/datasets/utils.py:70: UserWarning: \"ImageToTensor\" pipeline is replaced by \"DefaultFormatBundle\" for batch inference. It is recommended to manually replace it in the test data pipeline in your config file.\n",
      "  'data pipeline in your config file.', UserWarning)\n",
      "  1%|▏         | 1/73 [00:02<03:18,  2.75s/it]INFO:detection_util:Processing file: 100_C.jpg\n",
      "  3%|▎         | 2/73 [00:05<03:10,  2.69s/it]INFO:detection_util:Processing file: 100_B.jpg\n",
      "  4%|▍         | 3/73 [00:07<02:47,  2.40s/it]INFO:detection_util:Processing file: 100_AA.jpg\n",
      "  5%|▌         | 4/73 [00:09<02:42,  2.36s/it]INFO:detection_util:Processing file: 100_A.jpg\n",
      "  7%|▋         | 5/73 [00:12<02:47,  2.47s/it]INFO:detection_util:Processing file: 101_DD.jpg\n",
      "  8%|▊         | 6/73 [00:14<02:41,  2.42s/it]INFO:detection_util:Processing file: 101_C.jpg\n",
      " 10%|▉         | 7/73 [00:17<02:41,  2.44s/it]INFO:detection_util:Processing file: 101_B.jpg\n",
      " 11%|█         | 8/73 [00:19<02:36,  2.41s/it]INFO:detection_util:Processing file: 101_AA.jpg\n",
      " 12%|█▏        | 9/73 [00:21<02:32,  2.38s/it]INFO:detection_util:Processing file: 101_A.jpg\n",
      " 14%|█▎        | 10/73 [00:24<02:27,  2.35s/it]INFO:detection_util:Processing file: 86_D.jpg\n",
      " 15%|█▌        | 11/73 [00:27<02:42,  2.62s/it]INFO:detection_util:Processing file: 86_C.jpg\n",
      " 16%|█▋        | 12/73 [00:30<02:56,  2.89s/it]INFO:detection_util:Processing file: 86_B.jpg\n",
      " 18%|█▊        | 13/73 [00:33<02:53,  2.89s/it]INFO:detection_util:Processing file: 86_AA.jpg\n",
      " 19%|█▉        | 14/73 [00:36<02:46,  2.82s/it]INFO:detection_util:Processing file: 86_A.jpg\n",
      " 21%|██        | 15/73 [00:39<02:49,  2.92s/it]INFO:detection_util:Processing file: 88_D.jpg\n",
      " 22%|██▏       | 16/73 [00:44<03:20,  3.52s/it]INFO:detection_util:Processing file: 88_C.jpg\n",
      " 23%|██▎       | 17/73 [00:49<03:39,  3.91s/it]INFO:detection_util:Processing file: 88_B.jpg\n",
      " 25%|██▍       | 18/73 [00:53<03:39,  3.99s/it]INFO:detection_util:Processing file: 88_A.jpg\n",
      " 26%|██▌       | 19/73 [00:57<03:40,  4.09s/it]INFO:detection_util:Processing file: 89_D.jpg\n",
      " 27%|██▋       | 20/73 [00:59<03:03,  3.46s/it]INFO:detection_util:Processing file: 89_C.jpg\n",
      " 29%|██▉       | 21/73 [01:02<02:48,  3.24s/it]INFO:detection_util:Processing file: 89_B.jpg\n",
      " 30%|███       | 22/73 [01:04<02:26,  2.88s/it]INFO:detection_util:Processing file: 89_AA.jpg\n",
      " 32%|███▏      | 23/73 [01:07<02:22,  2.85s/it]INFO:detection_util:Processing file: 89_A.jpg\n",
      " 33%|███▎      | 24/73 [01:09<02:10,  2.67s/it]INFO:detection_util:Processing file: 90_D.jpg\n",
      " 34%|███▍      | 25/73 [01:12<02:15,  2.83s/it]INFO:detection_util:Processing file: 90_C.jpg\n",
      " 36%|███▌      | 26/73 [01:16<02:25,  3.09s/it]INFO:detection_util:Processing file: 90_B.jpg\n",
      " 37%|███▋      | 27/73 [01:20<02:30,  3.28s/it]INFO:detection_util:Processing file: 90_AA.jpg\n",
      " 38%|███▊      | 28/73 [01:24<02:42,  3.61s/it]INFO:detection_util:Processing file: 90_A.jpg\n",
      " 40%|███▉      | 29/73 [01:28<02:40,  3.65s/it]INFO:detection_util:Processing file: 91_D.jpg\n",
      " 41%|████      | 30/73 [01:31<02:37,  3.65s/it]INFO:detection_util:Processing file: 91_C.jpg\n",
      " 42%|████▏     | 31/73 [01:35<02:34,  3.69s/it]INFO:detection_util:Processing file: 91_B.jpg\n",
      " 44%|████▍     | 32/73 [01:39<02:36,  3.81s/it]INFO:detection_util:Processing file: 91_AA.jpg\n",
      " 45%|████▌     | 33/73 [01:43<02:31,  3.79s/it]INFO:detection_util:Processing file: 91_A.jpg\n",
      " 47%|████▋     | 34/73 [01:48<02:37,  4.03s/it]INFO:detection_util:Processing file: 92_D.jpg\n",
      " 48%|████▊     | 35/73 [01:52<02:36,  4.13s/it]INFO:detection_util:Processing file: 92_C.jpg\n",
      " 49%|████▉     | 36/73 [01:57<02:39,  4.30s/it]INFO:detection_util:Processing file: 92_B.jpg\n",
      " 51%|█████     | 37/73 [02:02<02:44,  4.58s/it]INFO:detection_util:Processing file: 92_AA.jpg\n",
      " 52%|█████▏    | 38/73 [02:06<02:38,  4.52s/it]INFO:detection_util:Processing file: 92_A.jpg\n",
      " 53%|█████▎    | 39/73 [02:10<02:29,  4.39s/it]INFO:detection_util:Processing file: 93_D.jpg\n",
      " 55%|█████▍    | 40/73 [02:16<02:35,  4.70s/it]INFO:detection_util:Processing file: 93_C.jpg\n",
      " 56%|█████▌    | 41/73 [02:21<02:33,  4.80s/it]INFO:detection_util:Processing file: 93_B.jpg\n",
      " 58%|█████▊    | 42/73 [02:26<02:27,  4.76s/it]INFO:detection_util:Processing file: 93_AA.jpg\n",
      " 59%|█████▉    | 43/73 [02:29<02:14,  4.49s/it]INFO:detection_util:Processing file: 93_A.jpg\n",
      " 60%|██████    | 44/73 [02:34<02:14,  4.64s/it]INFO:detection_util:Processing file: 94_D.jpg\n",
      " 62%|██████▏   | 45/73 [02:39<02:11,  4.68s/it]INFO:detection_util:Processing file: 94_C.jpg\n",
      " 63%|██████▎   | 46/73 [02:44<02:09,  4.80s/it]INFO:detection_util:Processing file: 94_B.jpg\n",
      " 64%|██████▍   | 47/73 [02:49<02:08,  4.92s/it]INFO:detection_util:Processing file: 94_AA.jpg\n",
      " 66%|██████▌   | 48/73 [02:54<01:56,  4.67s/it]INFO:detection_util:Processing file: 94_A.jpg\n",
      " 67%|██████▋   | 49/73 [02:59<01:55,  4.83s/it]INFO:detection_util:Processing file: 95_D.jpg\n",
      " 68%|██████▊   | 50/73 [03:02<01:40,  4.36s/it]INFO:detection_util:Processing file: 95_C.jpg\n",
      " 70%|██████▉   | 51/73 [03:06<01:32,  4.22s/it]INFO:detection_util:Processing file: 95_B.jpg\n",
      " 71%|███████   | 52/73 [03:09<01:22,  3.94s/it]INFO:detection_util:Processing file: 95_AA.jpg\n",
      " 73%|███████▎  | 53/73 [03:12<01:14,  3.72s/it]INFO:detection_util:Processing file: 95_A.jpg\n",
      " 74%|███████▍  | 54/73 [03:16<01:10,  3.73s/it]INFO:detection_util:Processing file: 96_D.jpg\n",
      " 75%|███████▌  | 55/73 [03:20<01:07,  3.78s/it]INFO:detection_util:Processing file: 96_C.jpg\n",
      " 77%|███████▋  | 56/73 [03:23<00:58,  3.45s/it]INFO:detection_util:Processing file: 96_B.jpg\n",
      " 78%|███████▊  | 57/73 [03:27<00:58,  3.66s/it]INFO:detection_util:Processing file: 96_AA.jpg\n",
      " 79%|███████▉  | 58/73 [03:30<00:54,  3.61s/it]INFO:detection_util:Processing file: 96_A.jpg\n",
      " 81%|████████  | 59/73 [03:35<00:55,  3.95s/it]INFO:detection_util:Processing file: 97_D.jpg\n",
      " 82%|████████▏ | 60/73 [03:40<00:54,  4.22s/it]INFO:detection_util:Processing file: 97_C.jpg\n",
      " 84%|████████▎ | 61/73 [03:43<00:46,  3.91s/it]INFO:detection_util:Processing file: 97_B.jpg\n",
      " 85%|████████▍ | 62/73 [03:47<00:41,  3.80s/it]INFO:detection_util:Processing file: 97_A.jpg\n",
      " 86%|████████▋ | 63/73 [03:50<00:37,  3.71s/it]INFO:detection_util:Processing file: 98_D.jpg\n",
      " 88%|████████▊ | 64/73 [03:54<00:32,  3.60s/it]INFO:detection_util:Processing file: 98_C.jpg\n",
      " 89%|████████▉ | 65/73 [03:56<00:26,  3.37s/it]INFO:detection_util:Processing file: 98_B.jpg\n",
      " 90%|█████████ | 66/73 [04:00<00:25,  3.58s/it]INFO:detection_util:Processing file: 98_AA.jpg\n",
      " 92%|█████████▏| 67/73 [04:04<00:20,  3.46s/it]INFO:detection_util:Processing file: 98_A.jpg\n",
      " 93%|█████████▎| 68/73 [04:07<00:16,  3.39s/it]INFO:detection_util:Processing file: 99_D.jpg\n",
      " 95%|█████████▍| 69/73 [04:11<00:14,  3.50s/it]INFO:detection_util:Processing file: 99_C.jpg\n",
      " 96%|█████████▌| 70/73 [04:13<00:09,  3.22s/it]INFO:detection_util:Processing file: 99_B.jpg\n",
      " 97%|█████████▋| 71/73 [04:16<00:06,  3.14s/it]INFO:detection_util:Processing file: 99_AA.jpg\n",
      " 99%|█████████▊| 72/73 [04:19<00:02,  2.92s/it]INFO:detection_util:Processing file: 99_A.jpg\n",
      "100%|██████████| 73/73 [04:23<00:00,  3.60s/it]\n"
     ]
    }
   ],
   "source": [
    "# Create predictions for faster RCNN model\n",
    "checkpoint_crcnn = f'{data_folder}/{crcnn_model_weight}'\n",
    "prediction_df_crcnn = create_predictions(file_names, cfg_crcnn, checkpoint_crcnn, device='cuda')"
   ]
  },
  {
   "cell_type": "code",
   "execution_count": 13,
   "metadata": {},
   "outputs": [],
   "source": [
    "# Save Cascade RCNN model predictions\n",
    "crcnn_result_path = f'{data_folder}/results_crcnn_test.csv'\n",
    "prediction_df_crcnn.to_csv(crcnn_result_path, sep=';')"
   ]
  },
  {
   "cell_type": "markdown",
   "metadata": {},
   "source": [
    "## Ensemble the results of the two models"
   ]
  },
  {
   "cell_type": "code",
   "execution_count": 14,
   "metadata": {},
   "outputs": [
    {
     "name": "stdout",
     "output_type": "stream",
     "text": [
      "Getting dimensions from Images\n"
     ]
    },
    {
     "name": "stderr",
     "output_type": "stream",
     "text": [
      "100%|██████████| 73/73 [01:05<00:00,  1.11it/s]\n"
     ]
    },
    {
     "name": "stdout",
     "output_type": "stream",
     "text": [
      "Merging Results from the two models\n"
     ]
    },
    {
     "name": "stderr",
     "output_type": "stream",
     "text": [
      "100%|██████████| 73/73 [00:01<00:00, 71.14it/s]\n"
     ]
    }
   ],
   "source": [
    "ensemble_df = generate_test_results(frcnn_result_path, crcnn_result_path, file_names)"
   ]
  },
  {
   "cell_type": "code",
   "execution_count": 15,
   "metadata": {},
   "outputs": [
    {
     "name": "stderr",
     "output_type": "stream",
     "text": [
      "INFO:numexpr.utils:NumExpr defaulting to 4 threads.\n"
     ]
    }
   ],
   "source": [
    "restricted_ensemble_df = ensemble_df[ensemble_df.detection_score>0.5]\n",
    "restricted_ensemble_df.to_csv(f'{data_folder}/frcnn_crcnn_ensemble_r101_detection_score_50.csv', sep=';')"
   ]
  },
  {
   "cell_type": "code",
   "execution_count": 16,
   "metadata": {},
   "outputs": [
    {
     "data": {
      "text/html": [
       "<div>\n",
       "<style scoped>\n",
       "    .dataframe tbody tr th:only-of-type {\n",
       "        vertical-align: middle;\n",
       "    }\n",
       "\n",
       "    .dataframe tbody tr th {\n",
       "        vertical-align: top;\n",
       "    }\n",
       "\n",
       "    .dataframe thead th {\n",
       "        text-align: right;\n",
       "    }\n",
       "</style>\n",
       "<table border=\"1\" class=\"dataframe\">\n",
       "  <thead>\n",
       "    <tr style=\"text-align: right;\">\n",
       "      <th></th>\n",
       "      <th>xmin</th>\n",
       "      <th>ymin</th>\n",
       "      <th>xmax</th>\n",
       "      <th>ymax</th>\n",
       "      <th>detection_score</th>\n",
       "      <th>file_name</th>\n",
       "      <th>section_id</th>\n",
       "    </tr>\n",
       "  </thead>\n",
       "  <tbody>\n",
       "    <tr>\n",
       "      <th>0</th>\n",
       "      <td>382.0</td>\n",
       "      <td>1289.0</td>\n",
       "      <td>678.0</td>\n",
       "      <td>1686.0</td>\n",
       "      <td>0.996147</td>\n",
       "      <td>100_D.jpg</td>\n",
       "      <td>100_D.jpg@382.0-678.0-1289.0-1686.0</td>\n",
       "    </tr>\n",
       "    <tr>\n",
       "      <th>1</th>\n",
       "      <td>1152.0</td>\n",
       "      <td>2169.0</td>\n",
       "      <td>1749.0</td>\n",
       "      <td>2706.0</td>\n",
       "      <td>0.996121</td>\n",
       "      <td>100_D.jpg</td>\n",
       "      <td>100_D.jpg@1152.0-1749.0-2169.0-2706.0</td>\n",
       "    </tr>\n",
       "    <tr>\n",
       "      <th>2</th>\n",
       "      <td>3070.0</td>\n",
       "      <td>6516.0</td>\n",
       "      <td>3245.0</td>\n",
       "      <td>6701.0</td>\n",
       "      <td>0.994554</td>\n",
       "      <td>100_D.jpg</td>\n",
       "      <td>100_D.jpg@3070.0-3245.0-6516.0-6701.0</td>\n",
       "    </tr>\n",
       "    <tr>\n",
       "      <th>3</th>\n",
       "      <td>2902.0</td>\n",
       "      <td>3139.0</td>\n",
       "      <td>3085.0</td>\n",
       "      <td>3325.0</td>\n",
       "      <td>0.994287</td>\n",
       "      <td>100_D.jpg</td>\n",
       "      <td>100_D.jpg@2902.0-3085.0-3139.0-3325.0</td>\n",
       "    </tr>\n",
       "    <tr>\n",
       "      <th>4</th>\n",
       "      <td>3049.0</td>\n",
       "      <td>4090.0</td>\n",
       "      <td>3274.0</td>\n",
       "      <td>4314.0</td>\n",
       "      <td>0.994223</td>\n",
       "      <td>100_D.jpg</td>\n",
       "      <td>100_D.jpg@3049.0-3274.0-4090.0-4314.0</td>\n",
       "    </tr>\n",
       "    <tr>\n",
       "      <th>...</th>\n",
       "      <td>...</td>\n",
       "      <td>...</td>\n",
       "      <td>...</td>\n",
       "      <td>...</td>\n",
       "      <td>...</td>\n",
       "      <td>...</td>\n",
       "      <td>...</td>\n",
       "    </tr>\n",
       "    <tr>\n",
       "      <th>6979</th>\n",
       "      <td>2525.0</td>\n",
       "      <td>3925.0</td>\n",
       "      <td>2699.0</td>\n",
       "      <td>4107.0</td>\n",
       "      <td>0.543512</td>\n",
       "      <td>99_A.jpg</td>\n",
       "      <td>99_A.jpg@2525.0-2699.0-3925.0-4107.0</td>\n",
       "    </tr>\n",
       "    <tr>\n",
       "      <th>6980</th>\n",
       "      <td>4627.0</td>\n",
       "      <td>2275.0</td>\n",
       "      <td>4702.0</td>\n",
       "      <td>2362.0</td>\n",
       "      <td>0.538379</td>\n",
       "      <td>99_A.jpg</td>\n",
       "      <td>99_A.jpg@4627.0-4702.0-2275.0-2362.0</td>\n",
       "    </tr>\n",
       "    <tr>\n",
       "      <th>6981</th>\n",
       "      <td>4704.0</td>\n",
       "      <td>1410.0</td>\n",
       "      <td>4764.0</td>\n",
       "      <td>1467.0</td>\n",
       "      <td>0.520698</td>\n",
       "      <td>99_A.jpg</td>\n",
       "      <td>99_A.jpg@4704.0-4764.0-1410.0-1467.0</td>\n",
       "    </tr>\n",
       "    <tr>\n",
       "      <th>6982</th>\n",
       "      <td>4834.0</td>\n",
       "      <td>1768.0</td>\n",
       "      <td>4926.0</td>\n",
       "      <td>1889.0</td>\n",
       "      <td>0.511173</td>\n",
       "      <td>99_A.jpg</td>\n",
       "      <td>99_A.jpg@4834.0-4926.0-1768.0-1889.0</td>\n",
       "    </tr>\n",
       "    <tr>\n",
       "      <th>6983</th>\n",
       "      <td>3980.0</td>\n",
       "      <td>1189.0</td>\n",
       "      <td>4098.0</td>\n",
       "      <td>1333.0</td>\n",
       "      <td>0.501912</td>\n",
       "      <td>99_A.jpg</td>\n",
       "      <td>99_A.jpg@3980.0-4098.0-1189.0-1333.0</td>\n",
       "    </tr>\n",
       "  </tbody>\n",
       "</table>\n",
       "<p>4945 rows × 7 columns</p>\n",
       "</div>"
      ],
      "text/plain": [
       "        xmin    ymin    xmax    ymax  detection_score  file_name  \\\n",
       "0      382.0  1289.0   678.0  1686.0         0.996147  100_D.jpg   \n",
       "1     1152.0  2169.0  1749.0  2706.0         0.996121  100_D.jpg   \n",
       "2     3070.0  6516.0  3245.0  6701.0         0.994554  100_D.jpg   \n",
       "3     2902.0  3139.0  3085.0  3325.0         0.994287  100_D.jpg   \n",
       "4     3049.0  4090.0  3274.0  4314.0         0.994223  100_D.jpg   \n",
       "...      ...     ...     ...     ...              ...        ...   \n",
       "6979  2525.0  3925.0  2699.0  4107.0         0.543512   99_A.jpg   \n",
       "6980  4627.0  2275.0  4702.0  2362.0         0.538379   99_A.jpg   \n",
       "6981  4704.0  1410.0  4764.0  1467.0         0.520698   99_A.jpg   \n",
       "6982  4834.0  1768.0  4926.0  1889.0         0.511173   99_A.jpg   \n",
       "6983  3980.0  1189.0  4098.0  1333.0         0.501912   99_A.jpg   \n",
       "\n",
       "                                 section_id  \n",
       "0       100_D.jpg@382.0-678.0-1289.0-1686.0  \n",
       "1     100_D.jpg@1152.0-1749.0-2169.0-2706.0  \n",
       "2     100_D.jpg@3070.0-3245.0-6516.0-6701.0  \n",
       "3     100_D.jpg@2902.0-3085.0-3139.0-3325.0  \n",
       "4     100_D.jpg@3049.0-3274.0-4090.0-4314.0  \n",
       "...                                     ...  \n",
       "6979   99_A.jpg@2525.0-2699.0-3925.0-4107.0  \n",
       "6980   99_A.jpg@4627.0-4702.0-2275.0-2362.0  \n",
       "6981   99_A.jpg@4704.0-4764.0-1410.0-1467.0  \n",
       "6982   99_A.jpg@4834.0-4926.0-1768.0-1889.0  \n",
       "6983   99_A.jpg@3980.0-4098.0-1189.0-1333.0  \n",
       "\n",
       "[4945 rows x 7 columns]"
      ]
     },
     "execution_count": 16,
     "metadata": {},
     "output_type": "execute_result"
    }
   ],
   "source": [
    "restricted_ensemble_df"
   ]
  },
  {
   "cell_type": "code",
   "execution_count": null,
   "metadata": {},
   "outputs": [],
   "source": []
  }
 ],
 "metadata": {
  "instance_type": "ml.g4dn.xlarge",
  "kernelspec": {
   "display_name": "python3 (gdsc5-smstudio-custom/1)",
   "language": "python",
   "name": "python3__SAGEMAKER_INTERNAL__arn:aws:sagemaker:us-east-1:914063116219:image-version/gdsc5-smstudio-custom/1"
  },
  "language_info": {
   "codemirror_mode": {
    "name": "ipython",
    "version": 3
   },
   "file_extension": ".py",
   "mimetype": "text/x-python",
   "name": "python",
   "nbconvert_exporter": "python",
   "pygments_lexer": "ipython3",
   "version": "3.6.13"
  }
 },
 "nbformat": 4,
 "nbformat_minor": 4
}
