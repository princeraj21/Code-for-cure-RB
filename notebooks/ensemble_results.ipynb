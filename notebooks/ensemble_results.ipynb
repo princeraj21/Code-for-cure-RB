{
 "cells": [
  {
   "cell_type": "markdown",
   "metadata": {},
   "source": [
    "# Ensemble Results\n",
    "In this notebook, we will ensemble the results from two models when we already have the predictions from those two models. We also demonstrate how to pass dimensions of images as argument to the model ensemble function"
   ]
  },
  {
   "cell_type": "code",
   "execution_count": 2,
   "metadata": {},
   "outputs": [
    {
     "name": "stdout",
     "output_type": "stream",
     "text": [
      "Collecting ensemble_boxes\n",
      "  Downloading ensemble_boxes-1.0.9-py3-none-any.whl (23 kB)\n",
      "Requirement already satisfied: pandas in /opt/conda/lib/python3.6/site-packages (from ensemble_boxes) (1.1.5)\n",
      "Requirement already satisfied: numpy in /opt/conda/lib/python3.6/site-packages (from ensemble_boxes) (1.19.1)\n",
      "Requirement already satisfied: numba in /opt/conda/lib/python3.6/site-packages (from ensemble_boxes) (0.53.1)\n",
      "Requirement already satisfied: llvmlite<0.37,>=0.36.0rc1 in /opt/conda/lib/python3.6/site-packages (from numba->ensemble_boxes) (0.36.0)\n",
      "Requirement already satisfied: setuptools in /opt/conda/lib/python3.6/site-packages (from numba->ensemble_boxes) (59.6.0)\n",
      "Requirement already satisfied: python-dateutil>=2.7.3 in /opt/conda/lib/python3.6/site-packages (from pandas->ensemble_boxes) (2.8.2)\n",
      "Requirement already satisfied: pytz>=2017.2 in /opt/conda/lib/python3.6/site-packages (from pandas->ensemble_boxes) (2021.3)\n",
      "Requirement already satisfied: six>=1.5 in /opt/conda/lib/python3.6/site-packages (from python-dateutil>=2.7.3->pandas->ensemble_boxes) (1.16.0)\n",
      "Installing collected packages: ensemble-boxes\n",
      "Successfully installed ensemble-boxes-1.0.9\n",
      "\u001b[33mWARNING: Running pip as the 'root' user can result in broken permissions and conflicting behaviour with the system package manager. It is recommended to use a virtual environment instead: https://pip.pypa.io/warnings/venv\u001b[0m\n"
     ]
    }
   ],
   "source": [
    "# ensemble_boxes library is required for ensembling the results of the two models\n",
    "!pip install ensemble_boxes"
   ]
  },
  {
   "cell_type": "code",
   "execution_count": 3,
   "metadata": {},
   "outputs": [],
   "source": [
    "import cv2\n",
    "import numpy as np\n",
    "import pandas as pd\n",
    "from tqdm import tqdm\n",
    "import sys"
   ]
  },
  {
   "cell_type": "code",
   "execution_count": 4,
   "metadata": {},
   "outputs": [],
   "source": [
    "sys.path.append('../src')    # Add the source directory to the PYTHONPATH. This allows to import local functions and modules."
   ]
  },
  {
   "cell_type": "code",
   "execution_count": 5,
   "metadata": {},
   "outputs": [],
   "source": [
    "from gdsc_util import PROJECT_DIR, load_sections_df\n",
    "from merge_ensemble_results import generate_test_results"
   ]
  },
  {
   "cell_type": "code",
   "execution_count": 6,
   "metadata": {},
   "outputs": [],
   "source": [
    "data_folder = str(PROJECT_DIR / 'data')"
   ]
  },
  {
   "cell_type": "code",
   "execution_count": 7,
   "metadata": {},
   "outputs": [],
   "source": [
    "# Paths for model prediction files\n",
    "with open(f'{PROJECT_DIR}/experiment_frcnn_5k_r101_epoch_24.txt', 'r') as f:\n",
    "    experiment_name_frcnn = f.read()\n",
    "    \n",
    "with open(f'{PROJECT_DIR}/experiment_crcnn_5k_r101_epoch_24.txt', 'r') as f:\n",
    "    experiment_name_crcnn = f.read()\n",
    "    \n",
    "frcnn_result_path = f'{data_folder}/{experiment_name_frcnn}/results_train_epoch_24.csv'\n",
    "crcnn_result_path = f'{data_folder}/{experiment_name_crcnn}/results_train_epoch_24.csv'"
   ]
  },
  {
   "cell_type": "code",
   "execution_count": 8,
   "metadata": {},
   "outputs": [],
   "source": [
    "# Load sections dataframe\n",
    "train_path = f'{data_folder}/gdsc_train.csv'\n",
    "sections_df = load_sections_df(train_path)\n",
    "file_names = sections_df['file_name'].unique()\n",
    "section_df_dims = None"
   ]
  },
  {
   "cell_type": "markdown",
   "metadata": {},
   "source": [
    "Since we already have the dimensions for gdsc_train images, we can use those dimensions without needing to get the dimensions again from the images. We have given an option to pass these dimensions as parameter to our merging function.\n",
    "\n",
    "If we don't have dimensions for the images, then we can skip the next cell and pass the dimensions as None. The function will load each image and get the dimensions automatically."
   ]
  },
  {
   "cell_type": "code",
   "execution_count": 9,
   "metadata": {},
   "outputs": [],
   "source": [
    "# Get dimension of each file in the format {'filename' : {'height': height_of_image, 'width': width_of_image}}\n",
    "section_df_dims = (\n",
    "    sections_df[[\"file_name\", \"height\", \"width\"]]\n",
    "    .drop_duplicates(subset=[\"file_name\"])\n",
    "    .set_index(\"file_name\")\n",
    "    .to_dict(orient=\"index\")\n",
    ")"
   ]
  },
  {
   "cell_type": "code",
   "execution_count": 10,
   "metadata": {},
   "outputs": [
    {
     "name": "stdout",
     "output_type": "stream",
     "text": [
      "Merging Results from the two models\n"
     ]
    },
    {
     "name": "stderr",
     "output_type": "stream",
     "text": [
      " 25%|██▌       | 253/994 [00:05<00:13, 53.98it/s]/opt/conda/lib/python3.6/site-packages/ensemble_boxes/ensemble_boxes_wbf.py:66: UserWarning: Zero area box skipped: [0.         0.99986693 0.00158691 0.99986693].\n",
      "  warnings.warn(\"Zero area box skipped: {}.\".format(box_part))\n",
      " 97%|█████████▋| 964/994 [00:22<00:00, 44.44it/s]/opt/conda/lib/python3.6/site-packages/ensemble_boxes/ensemble_boxes_wbf.py:66: UserWarning: Zero area box skipped: [0.         0.99986695 0.00158691 0.99986695].\n",
      "  warnings.warn(\"Zero area box skipped: {}.\".format(box_part))\n",
      "100%|██████████| 994/994 [00:22<00:00, 43.40it/s]\n"
     ]
    }
   ],
   "source": [
    "# Ensemble the results of the two models\n",
    "ensemble_df = generate_test_results(frcnn_result_path, crcnn_result_path, file_names, section_df_dims)"
   ]
  },
  {
   "cell_type": "code",
   "execution_count": 11,
   "metadata": {},
   "outputs": [],
   "source": [
    "ensemble_df.to_csv(f'{data_folder}/frcnn_crcnn_ensemble.csv', sep=';')"
   ]
  },
  {
   "cell_type": "code",
   "execution_count": null,
   "metadata": {},
   "outputs": [],
   "source": []
  }
 ],
 "metadata": {
  "instance_type": "ml.t3.medium",
  "kernelspec": {
   "display_name": "python3 (gdsc5-smstudio-custom/1)",
   "language": "python",
   "name": "python3__SAGEMAKER_INTERNAL__arn:aws:sagemaker:us-east-1:914063116219:image-version/gdsc5-smstudio-custom/1"
  },
  "language_info": {
   "codemirror_mode": {
    "name": "ipython",
    "version": 3
   },
   "file_extension": ".py",
   "mimetype": "text/x-python",
   "name": "python",
   "nbconvert_exporter": "python",
   "pygments_lexer": "ipython3",
   "version": "3.6.13"
  }
 },
 "nbformat": 4,
 "nbformat_minor": 4
}
